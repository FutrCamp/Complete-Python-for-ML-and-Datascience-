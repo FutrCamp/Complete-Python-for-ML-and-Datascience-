{
  "nbformat": 4,
  "nbformat_minor": 0,
  "metadata": {
    "colab": {
      "name": "Pandas Manipulation Basics",
      "provenance": [],
      "collapsed_sections": []
    },
    "kernelspec": {
      "name": "python3",
      "display_name": "Python 3"
    },
    "language_info": {
      "name": "python"
    }
  },
  "cells": [
    {
      "cell_type": "markdown",
      "metadata": {
        "id": "Kpa2DeaBvAFF"
      },
      "source": [
        "# Necessary Imports"
      ]
    },
    {
      "cell_type": "code",
      "metadata": {
        "id": "XfRAedfUtK72"
      },
      "source": [
        "import pandas as pd\n",
        "import numpy as np"
      ],
      "execution_count": null,
      "outputs": []
    },
    {
      "cell_type": "markdown",
      "metadata": {
        "id": "iKiYwpVLs2H-"
      },
      "source": [
        "# Gathering Data"
      ]
    },
    {
      "cell_type": "code",
      "metadata": {
        "id": "GBLyHt9WsUC4"
      },
      "source": [
        "df = pd.read_csv(\"https://raw.githubusercontent.com/AI-Pathshala/Python-for-Machine-Learning-and-Data-Science/main/stock_px.csv\")"
      ],
      "execution_count": null,
      "outputs": []
    },
    {
      "cell_type": "code",
      "metadata": {
        "colab": {
          "base_uri": "https://localhost:8080/",
          "height": 203
        },
        "id": "hmG13nopuWll",
        "outputId": "246ddbc8-7106-44bb-85f0-dac560e2eaec"
      },
      "source": [
        "df.head()"
      ],
      "execution_count": null,
      "outputs": [
        {
          "output_type": "execute_result",
          "data": {
            "text/html": [
              "<div>\n",
              "<style scoped>\n",
              "    .dataframe tbody tr th:only-of-type {\n",
              "        vertical-align: middle;\n",
              "    }\n",
              "\n",
              "    .dataframe tbody tr th {\n",
              "        vertical-align: top;\n",
              "    }\n",
              "\n",
              "    .dataframe thead th {\n",
              "        text-align: right;\n",
              "    }\n",
              "</style>\n",
              "<table border=\"1\" class=\"dataframe\">\n",
              "  <thead>\n",
              "    <tr style=\"text-align: right;\">\n",
              "      <th></th>\n",
              "      <th>Unnamed: 0</th>\n",
              "      <th>AA</th>\n",
              "      <th>AAPL</th>\n",
              "      <th>GE</th>\n",
              "      <th>IBM</th>\n",
              "      <th>JNJ</th>\n",
              "      <th>MSFT</th>\n",
              "      <th>PEP</th>\n",
              "      <th>SPX</th>\n",
              "      <th>XOM</th>\n",
              "    </tr>\n",
              "  </thead>\n",
              "  <tbody>\n",
              "    <tr>\n",
              "      <th>0</th>\n",
              "      <td>1990-02-01 00:00:00</td>\n",
              "      <td>4.98</td>\n",
              "      <td>7.86</td>\n",
              "      <td>2.87</td>\n",
              "      <td>16.79</td>\n",
              "      <td>4.27</td>\n",
              "      <td>0.51</td>\n",
              "      <td>6.04</td>\n",
              "      <td>328.79</td>\n",
              "      <td>6.12</td>\n",
              "    </tr>\n",
              "    <tr>\n",
              "      <th>1</th>\n",
              "      <td>1990-02-02 00:00:00</td>\n",
              "      <td>5.04</td>\n",
              "      <td>8.00</td>\n",
              "      <td>2.87</td>\n",
              "      <td>16.89</td>\n",
              "      <td>4.37</td>\n",
              "      <td>0.51</td>\n",
              "      <td>6.09</td>\n",
              "      <td>330.92</td>\n",
              "      <td>6.24</td>\n",
              "    </tr>\n",
              "    <tr>\n",
              "      <th>2</th>\n",
              "      <td>1990-02-05 00:00:00</td>\n",
              "      <td>5.07</td>\n",
              "      <td>8.18</td>\n",
              "      <td>2.87</td>\n",
              "      <td>17.32</td>\n",
              "      <td>4.34</td>\n",
              "      <td>0.51</td>\n",
              "      <td>6.05</td>\n",
              "      <td>331.85</td>\n",
              "      <td>6.25</td>\n",
              "    </tr>\n",
              "    <tr>\n",
              "      <th>3</th>\n",
              "      <td>1990-02-06 00:00:00</td>\n",
              "      <td>5.01</td>\n",
              "      <td>8.12</td>\n",
              "      <td>2.88</td>\n",
              "      <td>17.56</td>\n",
              "      <td>4.32</td>\n",
              "      <td>0.51</td>\n",
              "      <td>6.15</td>\n",
              "      <td>329.66</td>\n",
              "      <td>6.23</td>\n",
              "    </tr>\n",
              "    <tr>\n",
              "      <th>4</th>\n",
              "      <td>1990-02-07 00:00:00</td>\n",
              "      <td>5.04</td>\n",
              "      <td>7.77</td>\n",
              "      <td>2.91</td>\n",
              "      <td>17.93</td>\n",
              "      <td>4.38</td>\n",
              "      <td>0.51</td>\n",
              "      <td>6.17</td>\n",
              "      <td>333.75</td>\n",
              "      <td>6.33</td>\n",
              "    </tr>\n",
              "  </tbody>\n",
              "</table>\n",
              "</div>"
            ],
            "text/plain": [
              "            Unnamed: 0    AA  AAPL    GE    IBM   JNJ  MSFT   PEP     SPX   XOM\n",
              "0  1990-02-01 00:00:00  4.98  7.86  2.87  16.79  4.27  0.51  6.04  328.79  6.12\n",
              "1  1990-02-02 00:00:00  5.04  8.00  2.87  16.89  4.37  0.51  6.09  330.92  6.24\n",
              "2  1990-02-05 00:00:00  5.07  8.18  2.87  17.32  4.34  0.51  6.05  331.85  6.25\n",
              "3  1990-02-06 00:00:00  5.01  8.12  2.88  17.56  4.32  0.51  6.15  329.66  6.23\n",
              "4  1990-02-07 00:00:00  5.04  7.77  2.91  17.93  4.38  0.51  6.17  333.75  6.33"
            ]
          },
          "metadata": {
            "tags": []
          },
          "execution_count": 4
        }
      ]
    },
    {
      "cell_type": "code",
      "metadata": {
        "colab": {
          "base_uri": "https://localhost:8080/"
        },
        "id": "WnTTcd5quX6k",
        "outputId": "d1217b9d-fed7-4920-e471-0b6e890d666a"
      },
      "source": [
        "df.columns"
      ],
      "execution_count": null,
      "outputs": [
        {
          "output_type": "execute_result",
          "data": {
            "text/plain": [
              "Index(['Unnamed: 0', 'AA', 'AAPL', 'GE', 'IBM', 'JNJ', 'MSFT', 'PEP', 'SPX',\n",
              "       'XOM'],\n",
              "      dtype='object')"
            ]
          },
          "metadata": {
            "tags": []
          },
          "execution_count": 5
        }
      ]
    },
    {
      "cell_type": "markdown",
      "metadata": {
        "id": "WFeq7Jgmu5d8"
      },
      "source": [
        "# Changing Columns Name"
      ]
    },
    {
      "cell_type": "code",
      "metadata": {
        "id": "TfgkoeiFuhkU"
      },
      "source": [
        "df.columns= ['date', 'AA', 'AAPL', 'GE', 'IBM', 'JNJ', 'MSFT', 'PEP', 'SPX',\n",
        "       'XOM']"
      ],
      "execution_count": null,
      "outputs": []
    },
    {
      "cell_type": "code",
      "metadata": {
        "colab": {
          "base_uri": "https://localhost:8080/",
          "height": 204
        },
        "id": "q5zz89Htuxgj",
        "outputId": "82fd7cd8-1d56-45cd-ba32-4c6a542b3beb"
      },
      "source": [
        "df.head()"
      ],
      "execution_count": null,
      "outputs": [
        {
          "output_type": "execute_result",
          "data": {
            "text/html": [
              "<div>\n",
              "<style scoped>\n",
              "    .dataframe tbody tr th:only-of-type {\n",
              "        vertical-align: middle;\n",
              "    }\n",
              "\n",
              "    .dataframe tbody tr th {\n",
              "        vertical-align: top;\n",
              "    }\n",
              "\n",
              "    .dataframe thead th {\n",
              "        text-align: right;\n",
              "    }\n",
              "</style>\n",
              "<table border=\"1\" class=\"dataframe\">\n",
              "  <thead>\n",
              "    <tr style=\"text-align: right;\">\n",
              "      <th></th>\n",
              "      <th>date</th>\n",
              "      <th>AA</th>\n",
              "      <th>AAPL</th>\n",
              "      <th>GE</th>\n",
              "      <th>IBM</th>\n",
              "      <th>JNJ</th>\n",
              "      <th>MSFT</th>\n",
              "      <th>PEP</th>\n",
              "      <th>SPX</th>\n",
              "      <th>XOM</th>\n",
              "    </tr>\n",
              "  </thead>\n",
              "  <tbody>\n",
              "    <tr>\n",
              "      <th>0</th>\n",
              "      <td>1990-02-01 00:00:00</td>\n",
              "      <td>4.98</td>\n",
              "      <td>7.86</td>\n",
              "      <td>2.87</td>\n",
              "      <td>16.79</td>\n",
              "      <td>4.27</td>\n",
              "      <td>0.51</td>\n",
              "      <td>6.04</td>\n",
              "      <td>328.79</td>\n",
              "      <td>6.12</td>\n",
              "    </tr>\n",
              "    <tr>\n",
              "      <th>1</th>\n",
              "      <td>1990-02-02 00:00:00</td>\n",
              "      <td>5.04</td>\n",
              "      <td>8.00</td>\n",
              "      <td>2.87</td>\n",
              "      <td>16.89</td>\n",
              "      <td>4.37</td>\n",
              "      <td>0.51</td>\n",
              "      <td>6.09</td>\n",
              "      <td>330.92</td>\n",
              "      <td>6.24</td>\n",
              "    </tr>\n",
              "    <tr>\n",
              "      <th>2</th>\n",
              "      <td>1990-02-05 00:00:00</td>\n",
              "      <td>5.07</td>\n",
              "      <td>8.18</td>\n",
              "      <td>2.87</td>\n",
              "      <td>17.32</td>\n",
              "      <td>4.34</td>\n",
              "      <td>0.51</td>\n",
              "      <td>6.05</td>\n",
              "      <td>331.85</td>\n",
              "      <td>6.25</td>\n",
              "    </tr>\n",
              "    <tr>\n",
              "      <th>3</th>\n",
              "      <td>1990-02-06 00:00:00</td>\n",
              "      <td>5.01</td>\n",
              "      <td>8.12</td>\n",
              "      <td>2.88</td>\n",
              "      <td>17.56</td>\n",
              "      <td>4.32</td>\n",
              "      <td>0.51</td>\n",
              "      <td>6.15</td>\n",
              "      <td>329.66</td>\n",
              "      <td>6.23</td>\n",
              "    </tr>\n",
              "    <tr>\n",
              "      <th>4</th>\n",
              "      <td>1990-02-07 00:00:00</td>\n",
              "      <td>5.04</td>\n",
              "      <td>7.77</td>\n",
              "      <td>2.91</td>\n",
              "      <td>17.93</td>\n",
              "      <td>4.38</td>\n",
              "      <td>0.51</td>\n",
              "      <td>6.17</td>\n",
              "      <td>333.75</td>\n",
              "      <td>6.33</td>\n",
              "    </tr>\n",
              "  </tbody>\n",
              "</table>\n",
              "</div>"
            ],
            "text/plain": [
              "                  date    AA  AAPL    GE    IBM   JNJ  MSFT   PEP     SPX   XOM\n",
              "0  1990-02-01 00:00:00  4.98  7.86  2.87  16.79  4.27  0.51  6.04  328.79  6.12\n",
              "1  1990-02-02 00:00:00  5.04  8.00  2.87  16.89  4.37  0.51  6.09  330.92  6.24\n",
              "2  1990-02-05 00:00:00  5.07  8.18  2.87  17.32  4.34  0.51  6.05  331.85  6.25\n",
              "3  1990-02-06 00:00:00  5.01  8.12  2.88  17.56  4.32  0.51  6.15  329.66  6.23\n",
              "4  1990-02-07 00:00:00  5.04  7.77  2.91  17.93  4.38  0.51  6.17  333.75  6.33"
            ]
          },
          "metadata": {
            "tags": []
          },
          "execution_count": 11
        }
      ]
    },
    {
      "cell_type": "markdown",
      "metadata": {
        "id": "JoQv2OFOvDCc"
      },
      "source": [
        "# Inspecting single Column"
      ]
    },
    {
      "cell_type": "code",
      "metadata": {
        "colab": {
          "base_uri": "https://localhost:8080/"
        },
        "id": "jbaDxUqWuzeD",
        "outputId": "46e8e71e-f303-4a9e-b2d3-cdc6343c18ea"
      },
      "source": [
        "df['AA']"
      ],
      "execution_count": null,
      "outputs": [
        {
          "output_type": "execute_result",
          "data": {
            "text/plain": [
              "0        4.98\n",
              "1        5.04\n",
              "2        5.07\n",
              "3        5.01\n",
              "4        5.04\n",
              "        ...  \n",
              "5467    10.09\n",
              "5468    10.30\n",
              "5469    10.05\n",
              "5470    10.10\n",
              "5471    10.26\n",
              "Name: AA, Length: 5472, dtype: float64"
            ]
          },
          "metadata": {
            "tags": []
          },
          "execution_count": 8
        }
      ]
    },
    {
      "cell_type": "markdown",
      "metadata": {
        "id": "ReZiJjZHvKL0"
      },
      "source": [
        "# Inspecting Multiple Column"
      ]
    },
    {
      "cell_type": "code",
      "metadata": {
        "colab": {
          "base_uri": "https://localhost:8080/",
          "height": 419
        },
        "id": "7hphtTWBvH_k",
        "outputId": "d929f969-6e0c-4b1b-e8d6-ae2411b34616"
      },
      "source": [
        "df[['AA','AAPL']]"
      ],
      "execution_count": null,
      "outputs": [
        {
          "output_type": "execute_result",
          "data": {
            "text/html": [
              "<div>\n",
              "<style scoped>\n",
              "    .dataframe tbody tr th:only-of-type {\n",
              "        vertical-align: middle;\n",
              "    }\n",
              "\n",
              "    .dataframe tbody tr th {\n",
              "        vertical-align: top;\n",
              "    }\n",
              "\n",
              "    .dataframe thead th {\n",
              "        text-align: right;\n",
              "    }\n",
              "</style>\n",
              "<table border=\"1\" class=\"dataframe\">\n",
              "  <thead>\n",
              "    <tr style=\"text-align: right;\">\n",
              "      <th></th>\n",
              "      <th>AA</th>\n",
              "      <th>AAPL</th>\n",
              "    </tr>\n",
              "  </thead>\n",
              "  <tbody>\n",
              "    <tr>\n",
              "      <th>0</th>\n",
              "      <td>4.98</td>\n",
              "      <td>7.86</td>\n",
              "    </tr>\n",
              "    <tr>\n",
              "      <th>1</th>\n",
              "      <td>5.04</td>\n",
              "      <td>8.00</td>\n",
              "    </tr>\n",
              "    <tr>\n",
              "      <th>2</th>\n",
              "      <td>5.07</td>\n",
              "      <td>8.18</td>\n",
              "    </tr>\n",
              "    <tr>\n",
              "      <th>3</th>\n",
              "      <td>5.01</td>\n",
              "      <td>8.12</td>\n",
              "    </tr>\n",
              "    <tr>\n",
              "      <th>4</th>\n",
              "      <td>5.04</td>\n",
              "      <td>7.77</td>\n",
              "    </tr>\n",
              "    <tr>\n",
              "      <th>...</th>\n",
              "      <td>...</td>\n",
              "      <td>...</td>\n",
              "    </tr>\n",
              "    <tr>\n",
              "      <th>5467</th>\n",
              "      <td>10.09</td>\n",
              "      <td>388.81</td>\n",
              "    </tr>\n",
              "    <tr>\n",
              "      <th>5468</th>\n",
              "      <td>10.30</td>\n",
              "      <td>400.29</td>\n",
              "    </tr>\n",
              "    <tr>\n",
              "      <th>5469</th>\n",
              "      <td>10.05</td>\n",
              "      <td>402.19</td>\n",
              "    </tr>\n",
              "    <tr>\n",
              "      <th>5470</th>\n",
              "      <td>10.10</td>\n",
              "      <td>408.43</td>\n",
              "    </tr>\n",
              "    <tr>\n",
              "      <th>5471</th>\n",
              "      <td>10.26</td>\n",
              "      <td>422.00</td>\n",
              "    </tr>\n",
              "  </tbody>\n",
              "</table>\n",
              "<p>5472 rows × 2 columns</p>\n",
              "</div>"
            ],
            "text/plain": [
              "         AA    AAPL\n",
              "0      4.98    7.86\n",
              "1      5.04    8.00\n",
              "2      5.07    8.18\n",
              "3      5.01    8.12\n",
              "4      5.04    7.77\n",
              "...     ...     ...\n",
              "5467  10.09  388.81\n",
              "5468  10.30  400.29\n",
              "5469  10.05  402.19\n",
              "5470  10.10  408.43\n",
              "5471  10.26  422.00\n",
              "\n",
              "[5472 rows x 2 columns]"
            ]
          },
          "metadata": {
            "tags": []
          },
          "execution_count": 12
        }
      ]
    },
    {
      "cell_type": "markdown",
      "metadata": {
        "id": "jV_cnWcKvVwj"
      },
      "source": [
        "# Proof that single column is a Series"
      ]
    },
    {
      "cell_type": "code",
      "metadata": {
        "colab": {
          "base_uri": "https://localhost:8080/"
        },
        "id": "8Q0qrbDIvRpr",
        "outputId": "9ad3f4ca-2f4c-4e40-f20c-9b7bb6d9d105"
      },
      "source": [
        "type(df['AA'])"
      ],
      "execution_count": null,
      "outputs": [
        {
          "output_type": "execute_result",
          "data": {
            "text/plain": [
              "pandas.core.series.Series"
            ]
          },
          "metadata": {
            "tags": []
          },
          "execution_count": 13
        }
      ]
    },
    {
      "cell_type": "code",
      "metadata": {
        "colab": {
          "base_uri": "https://localhost:8080/"
        },
        "id": "BYX-gRbtvaV7",
        "outputId": "3dc55e88-2b99-4747-a692-171925aaf338"
      },
      "source": [
        "type(df[['AA','AAPL']])"
      ],
      "execution_count": null,
      "outputs": [
        {
          "output_type": "execute_result",
          "data": {
            "text/plain": [
              "pandas.core.frame.DataFrame"
            ]
          },
          "metadata": {
            "tags": []
          },
          "execution_count": 14
        }
      ]
    },
    {
      "cell_type": "markdown",
      "metadata": {
        "id": "-YaHACYodaah"
      },
      "source": [
        "# Selection"
      ]
    },
    {
      "cell_type": "markdown",
      "metadata": {
        "id": "jaKHoPCgvzss"
      },
      "source": [
        "## (A) `loc`\n",
        "loc() is label based data selecting method which means that we have to pass the name of the row or column which we want to select. This method includes the last element of the range passed in it, unlike iloc(). loc() can accept the boolean data unlike iloc() ."
      ]
    },
    {
      "cell_type": "markdown",
      "metadata": {
        "id": "XFf2TpmdzMIb"
      },
      "source": [
        "1. Selecting data according to some conditions :"
      ]
    },
    {
      "cell_type": "code",
      "metadata": {
        "colab": {
          "base_uri": "https://localhost:8080/"
        },
        "id": "rwI_HoBow7az",
        "outputId": "6d89345a-a9a7-4bef-fadc-2201c86a5a05"
      },
      "source": [
        "# Selecting stocks where AA > 4.98 & MSFT = 0.51\n",
        "print(df.loc[(df.AA > 4.98) & (df.MSFT == 0.51)])"
      ],
      "execution_count": null,
      "outputs": [
        {
          "output_type": "stream",
          "text": [
            "                  date    AA  AAPL    GE    IBM   JNJ  MSFT   PEP     SPX   XOM\n",
            "1  1990-02-02 00:00:00  5.04  8.00  2.87  16.89  4.37  0.51  6.09  330.92  6.24\n",
            "2  1990-02-05 00:00:00  5.07  8.18  2.87  17.32  4.34  0.51  6.05  331.85  6.25\n",
            "3  1990-02-06 00:00:00  5.01  8.12  2.88  17.56  4.32  0.51  6.15  329.66  6.23\n",
            "4  1990-02-07 00:00:00  5.04  7.77  2.91  17.93  4.38  0.51  6.17  333.75  6.33\n",
            "5  1990-02-08 00:00:00  5.04  7.71  2.92  17.86  4.46  0.51  6.22  332.96  6.35\n"
          ],
          "name": "stdout"
        }
      ]
    },
    {
      "cell_type": "code",
      "metadata": {
        "colab": {
          "base_uri": "https://localhost:8080/"
        },
        "id": "lsm2feKNz1PR",
        "outputId": "4a7dbc54-ad2c-46ae-93d7-8cb35a1dbb79"
      },
      "source": [
        "print(df.loc[(df['AA'] > 4.98) & (df['MSFT'] == 0.51)])"
      ],
      "execution_count": null,
      "outputs": [
        {
          "output_type": "stream",
          "text": [
            "                 Hello    AA  AAPL    GE    IBM   JNJ  MSFT   PEP     SPX   XOM\n",
            "1  1990-02-02 00:00:00  5.04  8.00  2.87  16.89  4.37  0.51  6.09  330.92  6.24\n",
            "2  1990-02-05 00:00:00  5.07  8.18  2.87  17.32  4.34  0.51  6.05  331.85  6.25\n",
            "3  1990-02-06 00:00:00  5.01  8.12  2.88  17.56  4.32  0.51  6.15  329.66  6.23\n",
            "4  1990-02-07 00:00:00  5.04  7.77  2.91  17.93  4.38  0.51  6.17  333.75  6.33\n",
            "5  1990-02-08 00:00:00  5.04  7.71  2.92  17.86  4.46  0.51  6.22  332.96  6.35\n"
          ],
          "name": "stdout"
        }
      ]
    },
    {
      "cell_type": "markdown",
      "metadata": {
        "id": "yDk_g3kd0Pla"
      },
      "source": [
        "2. Selecting a range of rows from the DataFrame :"
      ]
    },
    {
      "cell_type": "code",
      "metadata": {
        "colab": {
          "base_uri": "https://localhost:8080/"
        },
        "id": "VDD6sH7Gz-e5",
        "outputId": "8605203b-a6fb-412d-a5bb-b9b6e25422e8"
      },
      "source": [
        "# selecting range of rows from 2 to 5\n",
        "print(df.loc[2 : 5])"
      ],
      "execution_count": null,
      "outputs": [
        {
          "output_type": "stream",
          "text": [
            "                  date    AA  AAPL    GE    IBM   JNJ  MSFT   PEP     SPX   XOM\n",
            "2  1990-02-05 00:00:00  5.07  8.18  2.87  17.32  4.34  0.51  6.05  331.85  6.25\n",
            "3  1990-02-06 00:00:00  5.01  8.12  2.88  17.56  4.32  0.51  6.15  329.66  6.23\n",
            "4  1990-02-07 00:00:00  5.04  7.77  2.91  17.93  4.38  0.51  6.17  333.75  6.33\n",
            "5  1990-02-08 00:00:00  5.04  7.71  2.92  17.86  4.46  0.51  6.22  332.96  6.35\n"
          ],
          "name": "stdout"
        }
      ]
    },
    {
      "cell_type": "code",
      "metadata": {
        "colab": {
          "base_uri": "https://localhost:8080/",
          "height": 173
        },
        "id": "wTXFVfBb0TY5",
        "outputId": "79af99a3-f093-4a03-fcd7-c97e93405541"
      },
      "source": [
        "# displaying the DataFrame\n",
        "display(df.loc[2 : 5])"
      ],
      "execution_count": null,
      "outputs": [
        {
          "output_type": "display_data",
          "data": {
            "text/html": [
              "<div>\n",
              "<style scoped>\n",
              "    .dataframe tbody tr th:only-of-type {\n",
              "        vertical-align: middle;\n",
              "    }\n",
              "\n",
              "    .dataframe tbody tr th {\n",
              "        vertical-align: top;\n",
              "    }\n",
              "\n",
              "    .dataframe thead th {\n",
              "        text-align: right;\n",
              "    }\n",
              "</style>\n",
              "<table border=\"1\" class=\"dataframe\">\n",
              "  <thead>\n",
              "    <tr style=\"text-align: right;\">\n",
              "      <th></th>\n",
              "      <th>date</th>\n",
              "      <th>AA</th>\n",
              "      <th>AAPL</th>\n",
              "      <th>GE</th>\n",
              "      <th>IBM</th>\n",
              "      <th>JNJ</th>\n",
              "      <th>MSFT</th>\n",
              "      <th>PEP</th>\n",
              "      <th>SPX</th>\n",
              "      <th>XOM</th>\n",
              "    </tr>\n",
              "  </thead>\n",
              "  <tbody>\n",
              "    <tr>\n",
              "      <th>2</th>\n",
              "      <td>1990-02-05 00:00:00</td>\n",
              "      <td>5.07</td>\n",
              "      <td>8.18</td>\n",
              "      <td>2.87</td>\n",
              "      <td>17.32</td>\n",
              "      <td>4.34</td>\n",
              "      <td>0.51</td>\n",
              "      <td>6.05</td>\n",
              "      <td>331.85</td>\n",
              "      <td>6.25</td>\n",
              "    </tr>\n",
              "    <tr>\n",
              "      <th>3</th>\n",
              "      <td>1990-02-06 00:00:00</td>\n",
              "      <td>5.01</td>\n",
              "      <td>8.12</td>\n",
              "      <td>2.88</td>\n",
              "      <td>17.56</td>\n",
              "      <td>4.32</td>\n",
              "      <td>0.51</td>\n",
              "      <td>6.15</td>\n",
              "      <td>329.66</td>\n",
              "      <td>6.23</td>\n",
              "    </tr>\n",
              "    <tr>\n",
              "      <th>4</th>\n",
              "      <td>1990-02-07 00:00:00</td>\n",
              "      <td>5.04</td>\n",
              "      <td>7.77</td>\n",
              "      <td>2.91</td>\n",
              "      <td>17.93</td>\n",
              "      <td>4.38</td>\n",
              "      <td>0.51</td>\n",
              "      <td>6.17</td>\n",
              "      <td>333.75</td>\n",
              "      <td>6.33</td>\n",
              "    </tr>\n",
              "    <tr>\n",
              "      <th>5</th>\n",
              "      <td>1990-02-08 00:00:00</td>\n",
              "      <td>5.04</td>\n",
              "      <td>7.71</td>\n",
              "      <td>2.92</td>\n",
              "      <td>17.86</td>\n",
              "      <td>4.46</td>\n",
              "      <td>0.51</td>\n",
              "      <td>6.22</td>\n",
              "      <td>332.96</td>\n",
              "      <td>6.35</td>\n",
              "    </tr>\n",
              "  </tbody>\n",
              "</table>\n",
              "</div>"
            ],
            "text/plain": [
              "                  date    AA  AAPL    GE    IBM   JNJ  MSFT   PEP     SPX   XOM\n",
              "2  1990-02-05 00:00:00  5.07  8.18  2.87  17.32  4.34  0.51  6.05  331.85  6.25\n",
              "3  1990-02-06 00:00:00  5.01  8.12  2.88  17.56  4.32  0.51  6.15  329.66  6.23\n",
              "4  1990-02-07 00:00:00  5.04  7.77  2.91  17.93  4.38  0.51  6.17  333.75  6.33\n",
              "5  1990-02-08 00:00:00  5.04  7.71  2.92  17.86  4.46  0.51  6.22  332.96  6.35"
            ]
          },
          "metadata": {
            "tags": []
          }
        }
      ]
    },
    {
      "cell_type": "markdown",
      "metadata": {
        "id": "zfKE17Dz0okZ"
      },
      "source": [
        "3. Updating the value of any column :"
      ]
    },
    {
      "cell_type": "code",
      "metadata": {
        "id": "v8agem8z0YVJ",
        "colab": {
          "base_uri": "https://localhost:8080/",
          "height": 419
        },
        "outputId": "1f308fe9-7f6e-4690-a16d-099b86bb1d56"
      },
      "source": [
        "# updating values of AA if AA < 5\n",
        "df.loc[(df.AA < 5), ['AA']] = 13\n",
        "display(df)"
      ],
      "execution_count": null,
      "outputs": [
        {
          "output_type": "display_data",
          "data": {
            "text/html": [
              "<div>\n",
              "<style scoped>\n",
              "    .dataframe tbody tr th:only-of-type {\n",
              "        vertical-align: middle;\n",
              "    }\n",
              "\n",
              "    .dataframe tbody tr th {\n",
              "        vertical-align: top;\n",
              "    }\n",
              "\n",
              "    .dataframe thead th {\n",
              "        text-align: right;\n",
              "    }\n",
              "</style>\n",
              "<table border=\"1\" class=\"dataframe\">\n",
              "  <thead>\n",
              "    <tr style=\"text-align: right;\">\n",
              "      <th></th>\n",
              "      <th>date</th>\n",
              "      <th>AA</th>\n",
              "      <th>AAPL</th>\n",
              "      <th>GE</th>\n",
              "      <th>IBM</th>\n",
              "      <th>JNJ</th>\n",
              "      <th>MSFT</th>\n",
              "      <th>PEP</th>\n",
              "      <th>SPX</th>\n",
              "      <th>XOM</th>\n",
              "    </tr>\n",
              "  </thead>\n",
              "  <tbody>\n",
              "    <tr>\n",
              "      <th>0</th>\n",
              "      <td>1990-02-01 00:00:00</td>\n",
              "      <td>13.00</td>\n",
              "      <td>7.86</td>\n",
              "      <td>2.87</td>\n",
              "      <td>16.79</td>\n",
              "      <td>4.27</td>\n",
              "      <td>0.51</td>\n",
              "      <td>6.04</td>\n",
              "      <td>328.79</td>\n",
              "      <td>6.12</td>\n",
              "    </tr>\n",
              "    <tr>\n",
              "      <th>1</th>\n",
              "      <td>1990-02-02 00:00:00</td>\n",
              "      <td>5.04</td>\n",
              "      <td>8.00</td>\n",
              "      <td>2.87</td>\n",
              "      <td>16.89</td>\n",
              "      <td>4.37</td>\n",
              "      <td>0.51</td>\n",
              "      <td>6.09</td>\n",
              "      <td>330.92</td>\n",
              "      <td>6.24</td>\n",
              "    </tr>\n",
              "    <tr>\n",
              "      <th>2</th>\n",
              "      <td>1990-02-05 00:00:00</td>\n",
              "      <td>5.07</td>\n",
              "      <td>8.18</td>\n",
              "      <td>2.87</td>\n",
              "      <td>17.32</td>\n",
              "      <td>4.34</td>\n",
              "      <td>0.51</td>\n",
              "      <td>6.05</td>\n",
              "      <td>331.85</td>\n",
              "      <td>6.25</td>\n",
              "    </tr>\n",
              "    <tr>\n",
              "      <th>3</th>\n",
              "      <td>1990-02-06 00:00:00</td>\n",
              "      <td>5.01</td>\n",
              "      <td>8.12</td>\n",
              "      <td>2.88</td>\n",
              "      <td>17.56</td>\n",
              "      <td>4.32</td>\n",
              "      <td>0.51</td>\n",
              "      <td>6.15</td>\n",
              "      <td>329.66</td>\n",
              "      <td>6.23</td>\n",
              "    </tr>\n",
              "    <tr>\n",
              "      <th>4</th>\n",
              "      <td>1990-02-07 00:00:00</td>\n",
              "      <td>5.04</td>\n",
              "      <td>7.77</td>\n",
              "      <td>2.91</td>\n",
              "      <td>17.93</td>\n",
              "      <td>4.38</td>\n",
              "      <td>0.51</td>\n",
              "      <td>6.17</td>\n",
              "      <td>333.75</td>\n",
              "      <td>6.33</td>\n",
              "    </tr>\n",
              "    <tr>\n",
              "      <th>...</th>\n",
              "      <td>...</td>\n",
              "      <td>...</td>\n",
              "      <td>...</td>\n",
              "      <td>...</td>\n",
              "      <td>...</td>\n",
              "      <td>...</td>\n",
              "      <td>...</td>\n",
              "      <td>...</td>\n",
              "      <td>...</td>\n",
              "      <td>...</td>\n",
              "    </tr>\n",
              "    <tr>\n",
              "      <th>5467</th>\n",
              "      <td>2011-10-10 00:00:00</td>\n",
              "      <td>10.09</td>\n",
              "      <td>388.81</td>\n",
              "      <td>16.14</td>\n",
              "      <td>186.62</td>\n",
              "      <td>64.43</td>\n",
              "      <td>26.94</td>\n",
              "      <td>61.87</td>\n",
              "      <td>1194.89</td>\n",
              "      <td>76.28</td>\n",
              "    </tr>\n",
              "    <tr>\n",
              "      <th>5468</th>\n",
              "      <td>2011-10-11 00:00:00</td>\n",
              "      <td>10.30</td>\n",
              "      <td>400.29</td>\n",
              "      <td>16.14</td>\n",
              "      <td>185.00</td>\n",
              "      <td>63.96</td>\n",
              "      <td>27.00</td>\n",
              "      <td>60.95</td>\n",
              "      <td>1195.54</td>\n",
              "      <td>76.27</td>\n",
              "    </tr>\n",
              "    <tr>\n",
              "      <th>5469</th>\n",
              "      <td>2011-10-12 00:00:00</td>\n",
              "      <td>10.05</td>\n",
              "      <td>402.19</td>\n",
              "      <td>16.40</td>\n",
              "      <td>186.12</td>\n",
              "      <td>64.33</td>\n",
              "      <td>26.96</td>\n",
              "      <td>62.70</td>\n",
              "      <td>1207.25</td>\n",
              "      <td>77.16</td>\n",
              "    </tr>\n",
              "    <tr>\n",
              "      <th>5470</th>\n",
              "      <td>2011-10-13 00:00:00</td>\n",
              "      <td>10.10</td>\n",
              "      <td>408.43</td>\n",
              "      <td>16.22</td>\n",
              "      <td>186.82</td>\n",
              "      <td>64.23</td>\n",
              "      <td>27.18</td>\n",
              "      <td>62.36</td>\n",
              "      <td>1203.66</td>\n",
              "      <td>76.37</td>\n",
              "    </tr>\n",
              "    <tr>\n",
              "      <th>5471</th>\n",
              "      <td>2011-10-14 00:00:00</td>\n",
              "      <td>10.26</td>\n",
              "      <td>422.00</td>\n",
              "      <td>16.60</td>\n",
              "      <td>190.53</td>\n",
              "      <td>64.72</td>\n",
              "      <td>27.27</td>\n",
              "      <td>62.24</td>\n",
              "      <td>1224.58</td>\n",
              "      <td>78.11</td>\n",
              "    </tr>\n",
              "  </tbody>\n",
              "</table>\n",
              "<p>5472 rows × 10 columns</p>\n",
              "</div>"
            ],
            "text/plain": [
              "                     date     AA    AAPL     GE  ...   MSFT    PEP      SPX    XOM\n",
              "0     1990-02-01 00:00:00  13.00    7.86   2.87  ...   0.51   6.04   328.79   6.12\n",
              "1     1990-02-02 00:00:00   5.04    8.00   2.87  ...   0.51   6.09   330.92   6.24\n",
              "2     1990-02-05 00:00:00   5.07    8.18   2.87  ...   0.51   6.05   331.85   6.25\n",
              "3     1990-02-06 00:00:00   5.01    8.12   2.88  ...   0.51   6.15   329.66   6.23\n",
              "4     1990-02-07 00:00:00   5.04    7.77   2.91  ...   0.51   6.17   333.75   6.33\n",
              "...                   ...    ...     ...    ...  ...    ...    ...      ...    ...\n",
              "5467  2011-10-10 00:00:00  10.09  388.81  16.14  ...  26.94  61.87  1194.89  76.28\n",
              "5468  2011-10-11 00:00:00  10.30  400.29  16.14  ...  27.00  60.95  1195.54  76.27\n",
              "5469  2011-10-12 00:00:00  10.05  402.19  16.40  ...  26.96  62.70  1207.25  77.16\n",
              "5470  2011-10-13 00:00:00  10.10  408.43  16.22  ...  27.18  62.36  1203.66  76.37\n",
              "5471  2011-10-14 00:00:00  10.26  422.00  16.60  ...  27.27  62.24  1224.58  78.11\n",
              "\n",
              "[5472 rows x 10 columns]"
            ]
          },
          "metadata": {
            "tags": []
          }
        }
      ]
    },
    {
      "cell_type": "markdown",
      "metadata": {
        "id": "ZHLMewDmciwh"
      },
      "source": [
        "## (B) `iloc`\n",
        " iloc() is a indexed based selecting method which means that we have to pass integer index in the method to select specific row/column. This method does not include the last element of the range passed in it unlike loc(). iloc() does not accept the boolean data unlike loc()."
      ]
    },
    {
      "cell_type": "markdown",
      "metadata": {
        "id": "J3rpotf_cxRz"
      },
      "source": [
        "1. Selecting rows using integer indices:"
      ]
    },
    {
      "cell_type": "code",
      "metadata": {
        "colab": {
          "base_uri": "https://localhost:8080/",
          "height": 173
        },
        "id": "lfeV68-lcVeS",
        "outputId": "25e5b774-8f36-4502-a371-e08e538ff3ee"
      },
      "source": [
        "# selecting 0th, 2th, 4th, and 7th index rows\n",
        "display(df.iloc[[0, 2, 4, 6]])"
      ],
      "execution_count": null,
      "outputs": [
        {
          "output_type": "display_data",
          "data": {
            "text/html": [
              "<div>\n",
              "<style scoped>\n",
              "    .dataframe tbody tr th:only-of-type {\n",
              "        vertical-align: middle;\n",
              "    }\n",
              "\n",
              "    .dataframe tbody tr th {\n",
              "        vertical-align: top;\n",
              "    }\n",
              "\n",
              "    .dataframe thead th {\n",
              "        text-align: right;\n",
              "    }\n",
              "</style>\n",
              "<table border=\"1\" class=\"dataframe\">\n",
              "  <thead>\n",
              "    <tr style=\"text-align: right;\">\n",
              "      <th></th>\n",
              "      <th>date</th>\n",
              "      <th>AA</th>\n",
              "      <th>AAPL</th>\n",
              "      <th>GE</th>\n",
              "      <th>IBM</th>\n",
              "      <th>JNJ</th>\n",
              "      <th>MSFT</th>\n",
              "      <th>PEP</th>\n",
              "      <th>SPX</th>\n",
              "      <th>XOM</th>\n",
              "    </tr>\n",
              "  </thead>\n",
              "  <tbody>\n",
              "    <tr>\n",
              "      <th>0</th>\n",
              "      <td>1990-02-01 00:00:00</td>\n",
              "      <td>13.00</td>\n",
              "      <td>7.86</td>\n",
              "      <td>2.87</td>\n",
              "      <td>16.79</td>\n",
              "      <td>4.27</td>\n",
              "      <td>0.51</td>\n",
              "      <td>6.04</td>\n",
              "      <td>328.79</td>\n",
              "      <td>6.12</td>\n",
              "    </tr>\n",
              "    <tr>\n",
              "      <th>2</th>\n",
              "      <td>1990-02-05 00:00:00</td>\n",
              "      <td>5.07</td>\n",
              "      <td>8.18</td>\n",
              "      <td>2.87</td>\n",
              "      <td>17.32</td>\n",
              "      <td>4.34</td>\n",
              "      <td>0.51</td>\n",
              "      <td>6.05</td>\n",
              "      <td>331.85</td>\n",
              "      <td>6.25</td>\n",
              "    </tr>\n",
              "    <tr>\n",
              "      <th>4</th>\n",
              "      <td>1990-02-07 00:00:00</td>\n",
              "      <td>5.04</td>\n",
              "      <td>7.77</td>\n",
              "      <td>2.91</td>\n",
              "      <td>17.93</td>\n",
              "      <td>4.38</td>\n",
              "      <td>0.51</td>\n",
              "      <td>6.17</td>\n",
              "      <td>333.75</td>\n",
              "      <td>6.33</td>\n",
              "    </tr>\n",
              "    <tr>\n",
              "      <th>6</th>\n",
              "      <td>1990-02-09 00:00:00</td>\n",
              "      <td>5.06</td>\n",
              "      <td>8.00</td>\n",
              "      <td>2.94</td>\n",
              "      <td>17.82</td>\n",
              "      <td>4.49</td>\n",
              "      <td>0.52</td>\n",
              "      <td>6.24</td>\n",
              "      <td>333.62</td>\n",
              "      <td>6.37</td>\n",
              "    </tr>\n",
              "  </tbody>\n",
              "</table>\n",
              "</div>"
            ],
            "text/plain": [
              "                  date     AA  AAPL    GE  ...  MSFT   PEP     SPX   XOM\n",
              "0  1990-02-01 00:00:00  13.00  7.86  2.87  ...  0.51  6.04  328.79  6.12\n",
              "2  1990-02-05 00:00:00   5.07  8.18  2.87  ...  0.51  6.05  331.85  6.25\n",
              "4  1990-02-07 00:00:00   5.04  7.77  2.91  ...  0.51  6.17  333.75  6.33\n",
              "6  1990-02-09 00:00:00   5.06  8.00  2.94  ...  0.52  6.24  333.62  6.37\n",
              "\n",
              "[4 rows x 10 columns]"
            ]
          },
          "metadata": {
            "tags": []
          }
        }
      ]
    },
    {
      "cell_type": "markdown",
      "metadata": {
        "id": "MAefLYIrczPB"
      },
      "source": [
        "2. Selecting a range of columns and rows simultaneously:"
      ]
    },
    {
      "cell_type": "code",
      "metadata": {
        "colab": {
          "base_uri": "https://localhost:8080/",
          "height": 173
        },
        "id": "81GDjTIdc1TZ",
        "outputId": "0f9d1bd8-20f4-4740-cbba-234e2c3b5c9b"
      },
      "source": [
        "# selecting rows from 1 to 4 and columns from 2 to 4\n",
        "display(df.iloc[1 : 5, 2 : 5])"
      ],
      "execution_count": null,
      "outputs": [
        {
          "output_type": "display_data",
          "data": {
            "text/html": [
              "<div>\n",
              "<style scoped>\n",
              "    .dataframe tbody tr th:only-of-type {\n",
              "        vertical-align: middle;\n",
              "    }\n",
              "\n",
              "    .dataframe tbody tr th {\n",
              "        vertical-align: top;\n",
              "    }\n",
              "\n",
              "    .dataframe thead th {\n",
              "        text-align: right;\n",
              "    }\n",
              "</style>\n",
              "<table border=\"1\" class=\"dataframe\">\n",
              "  <thead>\n",
              "    <tr style=\"text-align: right;\">\n",
              "      <th></th>\n",
              "      <th>AAPL</th>\n",
              "      <th>GE</th>\n",
              "      <th>IBM</th>\n",
              "    </tr>\n",
              "  </thead>\n",
              "  <tbody>\n",
              "    <tr>\n",
              "      <th>1</th>\n",
              "      <td>8.00</td>\n",
              "      <td>2.87</td>\n",
              "      <td>16.89</td>\n",
              "    </tr>\n",
              "    <tr>\n",
              "      <th>2</th>\n",
              "      <td>8.18</td>\n",
              "      <td>2.87</td>\n",
              "      <td>17.32</td>\n",
              "    </tr>\n",
              "    <tr>\n",
              "      <th>3</th>\n",
              "      <td>8.12</td>\n",
              "      <td>2.88</td>\n",
              "      <td>17.56</td>\n",
              "    </tr>\n",
              "    <tr>\n",
              "      <th>4</th>\n",
              "      <td>7.77</td>\n",
              "      <td>2.91</td>\n",
              "      <td>17.93</td>\n",
              "    </tr>\n",
              "  </tbody>\n",
              "</table>\n",
              "</div>"
            ],
            "text/plain": [
              "   AAPL    GE    IBM\n",
              "1  8.00  2.87  16.89\n",
              "2  8.18  2.87  17.32\n",
              "3  8.12  2.88  17.56\n",
              "4  7.77  2.91  17.93"
            ]
          },
          "metadata": {
            "tags": []
          }
        }
      ]
    },
    {
      "cell_type": "markdown",
      "metadata": {
        "id": "RbRQG2uJdjiI"
      },
      "source": [
        "# The `apply()` function "
      ]
    },
    {
      "cell_type": "code",
      "metadata": {
        "colab": {
          "base_uri": "https://localhost:8080/"
        },
        "id": "tBOip7fddBYJ",
        "outputId": "9a9c31a1-2c71-4697-eafb-3c8526daadb4"
      },
      "source": [
        "def date_to_year(row) :\n",
        "  return int(row['date'].split('-')[1])\n",
        "\n",
        "df.apply(date_to_year, axis=1)"
      ],
      "execution_count": null,
      "outputs": [
        {
          "output_type": "execute_result",
          "data": {
            "text/plain": [
              "0        2\n",
              "1        2\n",
              "2        2\n",
              "3        2\n",
              "4        2\n",
              "        ..\n",
              "5467    10\n",
              "5468    10\n",
              "5469    10\n",
              "5470    10\n",
              "5471    10\n",
              "Length: 5472, dtype: int64"
            ]
          },
          "metadata": {
            "tags": []
          },
          "execution_count": 22
        }
      ]
    },
    {
      "cell_type": "code",
      "metadata": {
        "id": "D7fDn2nHeJhH"
      },
      "source": [
        "df['year'] = df.apply(date_to_year, axis=1)"
      ],
      "execution_count": null,
      "outputs": []
    },
    {
      "cell_type": "code",
      "metadata": {
        "colab": {
          "base_uri": "https://localhost:8080/",
          "height": 419
        },
        "id": "Pju_P5mJefrf",
        "outputId": "5ed54382-f469-45c8-d190-ab9b8238bdfa"
      },
      "source": [
        "df"
      ],
      "execution_count": null,
      "outputs": [
        {
          "output_type": "execute_result",
          "data": {
            "text/html": [
              "<div>\n",
              "<style scoped>\n",
              "    .dataframe tbody tr th:only-of-type {\n",
              "        vertical-align: middle;\n",
              "    }\n",
              "\n",
              "    .dataframe tbody tr th {\n",
              "        vertical-align: top;\n",
              "    }\n",
              "\n",
              "    .dataframe thead th {\n",
              "        text-align: right;\n",
              "    }\n",
              "</style>\n",
              "<table border=\"1\" class=\"dataframe\">\n",
              "  <thead>\n",
              "    <tr style=\"text-align: right;\">\n",
              "      <th></th>\n",
              "      <th>date</th>\n",
              "      <th>AA</th>\n",
              "      <th>AAPL</th>\n",
              "      <th>GE</th>\n",
              "      <th>IBM</th>\n",
              "      <th>JNJ</th>\n",
              "      <th>MSFT</th>\n",
              "      <th>PEP</th>\n",
              "      <th>SPX</th>\n",
              "      <th>XOM</th>\n",
              "      <th>year</th>\n",
              "    </tr>\n",
              "  </thead>\n",
              "  <tbody>\n",
              "    <tr>\n",
              "      <th>0</th>\n",
              "      <td>1990-02-01 00:00:00</td>\n",
              "      <td>13.00</td>\n",
              "      <td>7.86</td>\n",
              "      <td>2.87</td>\n",
              "      <td>16.79</td>\n",
              "      <td>4.27</td>\n",
              "      <td>0.51</td>\n",
              "      <td>6.04</td>\n",
              "      <td>328.79</td>\n",
              "      <td>6.12</td>\n",
              "      <td>2</td>\n",
              "    </tr>\n",
              "    <tr>\n",
              "      <th>1</th>\n",
              "      <td>1990-02-02 00:00:00</td>\n",
              "      <td>5.04</td>\n",
              "      <td>8.00</td>\n",
              "      <td>2.87</td>\n",
              "      <td>16.89</td>\n",
              "      <td>4.37</td>\n",
              "      <td>0.51</td>\n",
              "      <td>6.09</td>\n",
              "      <td>330.92</td>\n",
              "      <td>6.24</td>\n",
              "      <td>2</td>\n",
              "    </tr>\n",
              "    <tr>\n",
              "      <th>2</th>\n",
              "      <td>1990-02-05 00:00:00</td>\n",
              "      <td>5.07</td>\n",
              "      <td>8.18</td>\n",
              "      <td>2.87</td>\n",
              "      <td>17.32</td>\n",
              "      <td>4.34</td>\n",
              "      <td>0.51</td>\n",
              "      <td>6.05</td>\n",
              "      <td>331.85</td>\n",
              "      <td>6.25</td>\n",
              "      <td>2</td>\n",
              "    </tr>\n",
              "    <tr>\n",
              "      <th>3</th>\n",
              "      <td>1990-02-06 00:00:00</td>\n",
              "      <td>5.01</td>\n",
              "      <td>8.12</td>\n",
              "      <td>2.88</td>\n",
              "      <td>17.56</td>\n",
              "      <td>4.32</td>\n",
              "      <td>0.51</td>\n",
              "      <td>6.15</td>\n",
              "      <td>329.66</td>\n",
              "      <td>6.23</td>\n",
              "      <td>2</td>\n",
              "    </tr>\n",
              "    <tr>\n",
              "      <th>4</th>\n",
              "      <td>1990-02-07 00:00:00</td>\n",
              "      <td>5.04</td>\n",
              "      <td>7.77</td>\n",
              "      <td>2.91</td>\n",
              "      <td>17.93</td>\n",
              "      <td>4.38</td>\n",
              "      <td>0.51</td>\n",
              "      <td>6.17</td>\n",
              "      <td>333.75</td>\n",
              "      <td>6.33</td>\n",
              "      <td>2</td>\n",
              "    </tr>\n",
              "    <tr>\n",
              "      <th>...</th>\n",
              "      <td>...</td>\n",
              "      <td>...</td>\n",
              "      <td>...</td>\n",
              "      <td>...</td>\n",
              "      <td>...</td>\n",
              "      <td>...</td>\n",
              "      <td>...</td>\n",
              "      <td>...</td>\n",
              "      <td>...</td>\n",
              "      <td>...</td>\n",
              "      <td>...</td>\n",
              "    </tr>\n",
              "    <tr>\n",
              "      <th>5467</th>\n",
              "      <td>2011-10-10 00:00:00</td>\n",
              "      <td>10.09</td>\n",
              "      <td>388.81</td>\n",
              "      <td>16.14</td>\n",
              "      <td>186.62</td>\n",
              "      <td>64.43</td>\n",
              "      <td>26.94</td>\n",
              "      <td>61.87</td>\n",
              "      <td>1194.89</td>\n",
              "      <td>76.28</td>\n",
              "      <td>10</td>\n",
              "    </tr>\n",
              "    <tr>\n",
              "      <th>5468</th>\n",
              "      <td>2011-10-11 00:00:00</td>\n",
              "      <td>10.30</td>\n",
              "      <td>400.29</td>\n",
              "      <td>16.14</td>\n",
              "      <td>185.00</td>\n",
              "      <td>63.96</td>\n",
              "      <td>27.00</td>\n",
              "      <td>60.95</td>\n",
              "      <td>1195.54</td>\n",
              "      <td>76.27</td>\n",
              "      <td>10</td>\n",
              "    </tr>\n",
              "    <tr>\n",
              "      <th>5469</th>\n",
              "      <td>2011-10-12 00:00:00</td>\n",
              "      <td>10.05</td>\n",
              "      <td>402.19</td>\n",
              "      <td>16.40</td>\n",
              "      <td>186.12</td>\n",
              "      <td>64.33</td>\n",
              "      <td>26.96</td>\n",
              "      <td>62.70</td>\n",
              "      <td>1207.25</td>\n",
              "      <td>77.16</td>\n",
              "      <td>10</td>\n",
              "    </tr>\n",
              "    <tr>\n",
              "      <th>5470</th>\n",
              "      <td>2011-10-13 00:00:00</td>\n",
              "      <td>10.10</td>\n",
              "      <td>408.43</td>\n",
              "      <td>16.22</td>\n",
              "      <td>186.82</td>\n",
              "      <td>64.23</td>\n",
              "      <td>27.18</td>\n",
              "      <td>62.36</td>\n",
              "      <td>1203.66</td>\n",
              "      <td>76.37</td>\n",
              "      <td>10</td>\n",
              "    </tr>\n",
              "    <tr>\n",
              "      <th>5471</th>\n",
              "      <td>2011-10-14 00:00:00</td>\n",
              "      <td>10.26</td>\n",
              "      <td>422.00</td>\n",
              "      <td>16.60</td>\n",
              "      <td>190.53</td>\n",
              "      <td>64.72</td>\n",
              "      <td>27.27</td>\n",
              "      <td>62.24</td>\n",
              "      <td>1224.58</td>\n",
              "      <td>78.11</td>\n",
              "      <td>10</td>\n",
              "    </tr>\n",
              "  </tbody>\n",
              "</table>\n",
              "<p>5472 rows × 11 columns</p>\n",
              "</div>"
            ],
            "text/plain": [
              "                     date     AA    AAPL     GE  ...    PEP      SPX    XOM  year\n",
              "0     1990-02-01 00:00:00  13.00    7.86   2.87  ...   6.04   328.79   6.12     2\n",
              "1     1990-02-02 00:00:00   5.04    8.00   2.87  ...   6.09   330.92   6.24     2\n",
              "2     1990-02-05 00:00:00   5.07    8.18   2.87  ...   6.05   331.85   6.25     2\n",
              "3     1990-02-06 00:00:00   5.01    8.12   2.88  ...   6.15   329.66   6.23     2\n",
              "4     1990-02-07 00:00:00   5.04    7.77   2.91  ...   6.17   333.75   6.33     2\n",
              "...                   ...    ...     ...    ...  ...    ...      ...    ...   ...\n",
              "5467  2011-10-10 00:00:00  10.09  388.81  16.14  ...  61.87  1194.89  76.28    10\n",
              "5468  2011-10-11 00:00:00  10.30  400.29  16.14  ...  60.95  1195.54  76.27    10\n",
              "5469  2011-10-12 00:00:00  10.05  402.19  16.40  ...  62.70  1207.25  77.16    10\n",
              "5470  2011-10-13 00:00:00  10.10  408.43  16.22  ...  62.36  1203.66  76.37    10\n",
              "5471  2011-10-14 00:00:00  10.26  422.00  16.60  ...  62.24  1224.58  78.11    10\n",
              "\n",
              "[5472 rows x 11 columns]"
            ]
          },
          "metadata": {
            "tags": []
          },
          "execution_count": 26
        }
      ]
    },
    {
      "cell_type": "markdown",
      "metadata": {
        "id": "k5dUB09lemNI"
      },
      "source": [
        "# Plotting with Pandas"
      ]
    },
    {
      "cell_type": "code",
      "metadata": {
        "colab": {
          "base_uri": "https://localhost:8080/",
          "height": 284
        },
        "id": "sb1vmlwYegm3",
        "outputId": "7e81e1c4-9f26-496a-d6ed-7e1bddfaf937"
      },
      "source": [
        "df['AA'].hist()"
      ],
      "execution_count": null,
      "outputs": [
        {
          "output_type": "execute_result",
          "data": {
            "text/plain": [
              "<matplotlib.axes._subplots.AxesSubplot at 0x7fd03ef54850>"
            ]
          },
          "metadata": {
            "tags": []
          },
          "execution_count": 23
        },
        {
          "output_type": "display_data",
          "data": {
            "image/png": "[encoded data removed]",
            "text/plain": [
              "<Figure size 432x288 with 1 Axes>"
            ]
          },
          "metadata": {
            "tags": [],
            "needs_background": "light"
          }
        }
      ]
    },
    {
      "cell_type": "code",
      "metadata": {
        "colab": {
          "base_uri": "https://localhost:8080/",
          "height": 284
        },
        "id": "2jKoAJ4Mes9f",
        "outputId": "dbdbaf15-713c-4eae-e397-b0f3b0ded968"
      },
      "source": [
        "df['AA'].plot()"
      ],
      "execution_count": null,
      "outputs": [
        {
          "output_type": "execute_result",
          "data": {
            "text/plain": [
              "<matplotlib.axes._subplots.AxesSubplot at 0x7fd03eeceed0>"
            ]
          },
          "metadata": {
            "tags": []
          },
          "execution_count": 28
        },
        {
          "output_type": "display_data",
          "data": {
            "image/png": "[encoded data removed]",
            "text/plain": [
              "<Figure size 432x288 with 1 Axes>"
            ]
          },
          "metadata": {
            "tags": [],
            "needs_background": "light"
          }
        }
      ]
    },
    {
      "cell_type": "code",
      "metadata": {
        "colab": {
          "base_uri": "https://localhost:8080/",
          "height": 282
        },
        "id": "k3aHbvgsexlY",
        "outputId": "947b7046-3cd2-4ee0-9268-95bd7e77d9d3"
      },
      "source": [
        "df[['date','AA','XOM','GE']].plot.box()"
      ],
      "execution_count": null,
      "outputs": [
        {
          "output_type": "execute_result",
          "data": {
            "text/plain": [
              "<matplotlib.axes._subplots.AxesSubplot at 0x7fd03e82f050>"
            ]
          },
          "metadata": {
            "tags": []
          },
          "execution_count": 29
        },
        {
          "output_type": "display_data",
          "data": {
            "image/png": "[encoded data removed]",
            "text/plain": [
              "<Figure size 432x288 with 1 Axes>"
            ]
          },
          "metadata": {
            "tags": [],
            "needs_background": "light"
          }
        }
      ]
    },
    {
      "cell_type": "code",
      "metadata": {
        "id": "Yuu9OtUve-MI"
      },
      "source": [
        ""
      ],
      "execution_count": null,
      "outputs": []
    }
  ]
}